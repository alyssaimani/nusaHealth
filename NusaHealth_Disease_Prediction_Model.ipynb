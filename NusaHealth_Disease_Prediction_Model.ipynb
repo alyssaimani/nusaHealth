{
  "nbformat": 4,
  "nbformat_minor": 0,
  "metadata": {
    "colab": {
      "name": "NusaHealth - Disease Prediction Model.ipynb",
      "provenance": [],
      "authorship_tag": "ABX9TyOukf6Gcfa2GySSBl5mh4k/",
      "include_colab_link": true
    },
    "kernelspec": {
      "name": "python3",
      "display_name": "Python 3"
    },
    "language_info": {
      "name": "python"
    }
  },
  "cells": [
    {
      "cell_type": "markdown",
      "metadata": {
        "id": "view-in-github",
        "colab_type": "text"
      },
      "source": [
        "<a href=\"https://colab.research.google.com/github/alyssaimani/nusaHealth/blob/master/NusaHealth_Disease_Prediction_Model.ipynb\" target=\"_parent\"><img src=\"https://colab.research.google.com/assets/colab-badge.svg\" alt=\"Open In Colab\"/></a>"
      ]
    },
    {
      "cell_type": "code",
      "source": [
        "import pandas as pd\n",
        "from sklearn import tree\n",
        "from sklearn.metrics import accuracy_score\n",
        "import numpy as np\n",
        "import pickle"
      ],
      "metadata": {
        "id": "_C0MUpIzKAyO"
      },
      "execution_count": 1,
      "outputs": []
    },
    {
      "cell_type": "markdown",
      "source": [
        "Create Disease Prediction Model for 41 class diseases with analysis 132 symptoms"
      ],
      "metadata": {
        "id": "QGXLslWtDevG"
      }
    },
    {
      "cell_type": "code",
      "source": [
        "from google.colab import drive\n",
        "drive.mount('/content/drive')"
      ],
      "metadata": {
        "colab": {
          "base_uri": "https://localhost:8080/"
        },
        "id": "s31wBToGkxAG",
        "outputId": "4d658fbb-fb03-44cf-8cde-6813a3bf0070"
      },
      "execution_count": 2,
      "outputs": [
        {
          "output_type": "stream",
          "name": "stdout",
          "text": [
            "Mounted at /content/drive\n"
          ]
        }
      ]
    },
    {
      "cell_type": "code",
      "execution_count": 3,
      "metadata": {
        "id": "WQf9rNQH3xjp"
      },
      "outputs": [],
      "source": [
        "train_symptoms = pd.read_csv(\"/content/drive/MyDrive/nusaHealth/Training.csv\")\n",
        "train_symptoms = pd.DataFrame(train_symptoms)\n",
        "# train_symptoms\n",
        "test_symptoms = pd.read_csv(\"/content/drive/MyDrive/nusaHealth/Testing.csv\")\n",
        "test_symptoms = pd.DataFrame(test_symptoms)\n",
        "# test_symptoms"
      ]
    },
    {
      "cell_type": "code",
      "source": [
        "train_data = train_symptoms.drop([\"prognosis\",\"Unnamed: 133\"], axis=1)\n",
        "train_target = train_symptoms[\"prognosis\"]"
      ],
      "metadata": {
        "id": "sSl89rB7O7sy"
      },
      "execution_count": 4,
      "outputs": []
    },
    {
      "cell_type": "markdown",
      "source": [
        "132 Symptoms"
      ],
      "metadata": {
        "id": "ynk_OzaxGz1w"
      }
    },
    {
      "cell_type": "code",
      "source": [
        "train_data.columns"
      ],
      "metadata": {
        "colab": {
          "base_uri": "https://localhost:8080/"
        },
        "id": "JLpD77unGM7o",
        "outputId": "00218515-889d-453a-ebcb-b5144c6d4086"
      },
      "execution_count": 45,
      "outputs": [
        {
          "output_type": "execute_result",
          "data": {
            "text/plain": [
              "Index(['itching', 'skin_rash', 'nodal_skin_eruptions', 'continuous_sneezing',\n",
              "       'shivering', 'chills', 'joint_pain', 'stomach_pain', 'acidity',\n",
              "       'ulcers_on_tongue',\n",
              "       ...\n",
              "       'pus_filled_pimples', 'blackheads', 'scurring', 'skin_peeling',\n",
              "       'silver_like_dusting', 'small_dents_in_nails', 'inflammatory_nails',\n",
              "       'blister', 'red_sore_around_nose', 'yellow_crust_ooze'],\n",
              "      dtype='object', length=132)"
            ]
          },
          "metadata": {},
          "execution_count": 45
        }
      ]
    },
    {
      "cell_type": "markdown",
      "source": [
        "41 Class Diseases"
      ],
      "metadata": {
        "id": "3UCUwvFlGAIS"
      }
    },
    {
      "cell_type": "code",
      "source": [
        "train_target.unique()"
      ],
      "metadata": {
        "colab": {
          "base_uri": "https://localhost:8080/"
        },
        "id": "0GJo5-Q4FoxD",
        "outputId": "4e4c221b-eeab-42b4-97a3-3fc358c684ca"
      },
      "execution_count": 42,
      "outputs": [
        {
          "output_type": "execute_result",
          "data": {
            "text/plain": [
              "array(['Fungal infection', 'Allergy', 'GERD', 'Chronic cholestasis',\n",
              "       'Drug Reaction', 'Peptic ulcer diseae', 'AIDS', 'Diabetes ',\n",
              "       'Gastroenteritis', 'Bronchial Asthma', 'Hypertension ', 'Migraine',\n",
              "       'Cervical spondylosis', 'Paralysis (brain hemorrhage)', 'Jaundice',\n",
              "       'Malaria', 'Chicken pox', 'Dengue', 'Typhoid', 'hepatitis A',\n",
              "       'Hepatitis B', 'Hepatitis C', 'Hepatitis D', 'Hepatitis E',\n",
              "       'Alcoholic hepatitis', 'Tuberculosis', 'Common Cold', 'Pneumonia',\n",
              "       'Dimorphic hemmorhoids(piles)', 'Heart attack', 'Varicose veins',\n",
              "       'Hypothyroidism', 'Hyperthyroidism', 'Hypoglycemia',\n",
              "       'Osteoarthristis', 'Arthritis',\n",
              "       '(vertigo) Paroymsal  Positional Vertigo', 'Acne',\n",
              "       'Urinary tract infection', 'Psoriasis', 'Impetigo'], dtype=object)"
            ]
          },
          "metadata": {},
          "execution_count": 42
        }
      ]
    },
    {
      "cell_type": "markdown",
      "source": [
        "Train data with DecisionTreeClassifier"
      ],
      "metadata": {
        "id": "e6MMX4sQDT1e"
      }
    },
    {
      "cell_type": "code",
      "source": [
        "clf_disease = tree.DecisionTreeClassifier()\n",
        "clf_disease = clf_disease.fit(train_data, train_target)"
      ],
      "metadata": {
        "id": "g5COrmL3R4ub"
      },
      "execution_count": 5,
      "outputs": []
    },
    {
      "cell_type": "code",
      "source": [
        "test_data = test_symptoms.drop([\"prognosis\"], axis=1)\n",
        "test_target = test_symptoms[\"prognosis\"]"
      ],
      "metadata": {
        "id": "dTQ-mrAhHt5z"
      },
      "execution_count": 7,
      "outputs": []
    },
    {
      "cell_type": "code",
      "source": [
        "pred = clf_disease.predict(test_data)\n",
        "accuracy_score(pred, test_target)"
      ],
      "metadata": {
        "colab": {
          "base_uri": "https://localhost:8080/"
        },
        "id": "9jTxy_bDHDmy",
        "outputId": "24e96842-c87b-4ebb-b0bb-92a67a763b39"
      },
      "execution_count": 8,
      "outputs": [
        {
          "output_type": "execute_result",
          "data": {
            "text/plain": [
              "0.9761904761904762"
            ]
          },
          "metadata": {},
          "execution_count": 8
        }
      ]
    },
    {
      "cell_type": "code",
      "source": [
        "test_data = test_symptoms.drop([\"prognosis\"], axis=1)\n",
        "test_target = test_symptoms[\"prognosis\"]"
      ],
      "metadata": {
        "id": "AGhSvh_WU6OD"
      },
      "execution_count": null,
      "outputs": []
    },
    {
      "cell_type": "markdown",
      "source": [
        "Create an example input for the model"
      ],
      "metadata": {
        "id": "O5VmUjYkDFSZ"
      }
    },
    {
      "cell_type": "code",
      "source": [
        "input = np.zeros(132)"
      ],
      "metadata": {
        "id": "Nd4AVxjUYJ7y"
      },
      "execution_count": 21,
      "outputs": []
    },
    {
      "cell_type": "code",
      "source": [
        "input[0] = 1\n",
        "input[1] = 1\n",
        "input[2] = 1"
      ],
      "metadata": {
        "id": "bc08EnpcEGBR"
      },
      "execution_count": 22,
      "outputs": []
    },
    {
      "cell_type": "code",
      "source": [
        "input"
      ],
      "metadata": {
        "colab": {
          "base_uri": "https://localhost:8080/"
        },
        "id": "16tT8C-PEOMS",
        "outputId": "2a6bbd14-97ef-4d31-ef82-774f1cc8be27"
      },
      "execution_count": 23,
      "outputs": [
        {
          "output_type": "execute_result",
          "data": {
            "text/plain": [
              "array([1., 1., 1., 0., 0., 0., 0., 0., 0., 0., 0., 0., 0., 0., 0., 0., 0.,\n",
              "       0., 0., 0., 0., 0., 0., 0., 0., 0., 0., 0., 0., 0., 0., 0., 0., 0.,\n",
              "       0., 0., 0., 0., 0., 0., 0., 0., 0., 0., 0., 0., 0., 0., 0., 0., 0.,\n",
              "       0., 0., 0., 0., 0., 0., 0., 0., 0., 0., 0., 0., 0., 0., 0., 0., 0.,\n",
              "       0., 0., 0., 0., 0., 0., 0., 0., 0., 0., 0., 0., 0., 0., 0., 0., 0.,\n",
              "       0., 0., 0., 0., 0., 0., 0., 0., 0., 0., 0., 0., 0., 0., 0., 0., 0.,\n",
              "       0., 0., 0., 0., 0., 0., 0., 0., 0., 0., 0., 0., 0., 0., 0., 0., 0.,\n",
              "       0., 0., 0., 0., 0., 0., 0., 0., 0., 0., 0., 0., 0.])"
            ]
          },
          "metadata": {},
          "execution_count": 23
        }
      ]
    },
    {
      "cell_type": "code",
      "source": [
        "pred = clf_disease.predict([input])\n"
      ],
      "metadata": {
        "id": "S1cPpeqo9JZb",
        "colab": {
          "base_uri": "https://localhost:8080/"
        },
        "outputId": "a6b802d1-d60d-43fa-b266-ba7c1c869675"
      },
      "execution_count": 24,
      "outputs": [
        {
          "output_type": "stream",
          "name": "stderr",
          "text": [
            "/usr/local/lib/python3.7/dist-packages/sklearn/base.py:451: UserWarning: X does not have valid feature names, but DecisionTreeClassifier was fitted with feature names\n",
            "  \"X does not have valid feature names, but\"\n"
          ]
        }
      ]
    },
    {
      "cell_type": "code",
      "source": [
        "pred "
      ],
      "metadata": {
        "id": "_0vLBaMZvFeL",
        "colab": {
          "base_uri": "https://localhost:8080/"
        },
        "outputId": "c2d32d58-e730-403a-8741-6d4f25fe7330"
      },
      "execution_count": 25,
      "outputs": [
        {
          "output_type": "execute_result",
          "data": {
            "text/plain": [
              "array(['Fungal infection'], dtype=object)"
            ]
          },
          "metadata": {},
          "execution_count": 25
        }
      ]
    },
    {
      "cell_type": "code",
      "source": [
        "filename = 'diagnose_model.sav'\n",
        "pickle.dump(clf_disease, open(filename, 'wb'))"
      ],
      "metadata": {
        "id": "i332Imf2kKGf"
      },
      "execution_count": 26,
      "outputs": []
    },
    {
      "cell_type": "code",
      "source": [
        ""
      ],
      "metadata": {
        "id": "NcBYfxGzCTsw"
      },
      "execution_count": null,
      "outputs": []
    }
  ]
}